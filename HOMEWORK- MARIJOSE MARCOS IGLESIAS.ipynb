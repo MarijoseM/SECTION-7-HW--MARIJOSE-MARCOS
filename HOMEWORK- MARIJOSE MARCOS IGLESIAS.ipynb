{
 "cells": [
  {
   "cell_type": "markdown",
   "id": "21f80244",
   "metadata": {},
   "source": [
    "# HOMEWORK MARIJOSE MARCOS"
   ]
  },
  {
   "cell_type": "markdown",
   "id": "22e8a01d",
   "metadata": {},
   "source": [
    "## NEURAL NETWORKS- SECTION 7"
   ]
  },
  {
   "cell_type": "code",
   "execution_count": 19,
   "id": "0ff332f7",
   "metadata": {},
   "outputs": [
    {
     "name": "stderr",
     "output_type": "stream",
     "text": [
      "Warning message:\n",
      "\"package 'neuralnet' is in use and will not be installed\""
     ]
    },
    {
     "name": "stdout",
     "output_type": "stream",
     "text": [
      "package 'adabag' successfully unpacked and MD5 sums checked\n",
      "\n",
      "The downloaded binary packages are in\n",
      "\tC:\\Users\\mmarcosiglesias\\AppData\\Local\\Temp\\RtmpIdGniZ\\downloaded_packages\n"
     ]
    },
    {
     "name": "stderr",
     "output_type": "stream",
     "text": [
      "Warning message:\n",
      "\"package 'adabag' was built under R version 3.6.3\"Loading required package: caret\n",
      "Warning message:\n",
      "\"package 'caret' was built under R version 3.6.3\"Loading required package: ggplot2\n",
      "Error: package or namespace load failed for 'ggplot2' in loadNamespace(j <- i[[1L]], c(lib.loc, .libPaths()), versionCheck = vI[[j]]):\n",
      " there is no package called 'pillar'\n"
     ]
    },
    {
     "ename": "ERROR",
     "evalue": "Error: package 'ggplot2' could not be loaded\n",
     "output_type": "error",
     "traceback": [
      "Error: package 'ggplot2' could not be loaded\nTraceback:\n",
      "1. library(adabag)",
      "2. .getRequiredPackages2(pkgInfo, quietly = quietly)",
      "3. library(pkg, character.only = TRUE, logical.return = TRUE, lib.loc = lib.loc, \n .     quietly = quietly)",
      "4. .getRequiredPackages2(pkgInfo, quietly = quietly)",
      "5. stop(gettextf(\"package %s could not be loaded\", sQuote(pkg)), \n .     call. = FALSE, domain = NA)"
     ]
    }
   ],
   "source": [
    "install.packages('neuralnet')\n",
    "library(neuralnet)\n",
    "library(randomForest)\n",
    "install.packages('adabag')\n",
    "library(adabag)        \n",
    "library(e1071)  \n",
    "library(mlr)\n",
    "library(caret)\n",
    "install.packages(\"learner\")\n",
    "library(learner)"
   ]
  },
  {
   "cell_type": "code",
   "execution_count": 21,
   "id": "d10f8273",
   "metadata": {},
   "outputs": [
    {
     "name": "stderr",
     "output_type": "stream",
     "text": [
      "also installing the dependencies 'credentials', 'openssl', 'zip', 'gitcreds', 'ini', 'fastmap', 'diffobj', 'rematch2', 'gert', 'gh', 'rappdirs', 'rprojroot', 'processx', 'glue', 'cachem', 'xopen', 'brew', 'commonmark', 'purrr', 'brio', 'praise', 'ps', 'waldo', 'usethis', 'callr', 'cli', 'desc', 'fs', 'httr', 'lifecycle', 'memoise', 'pkgbuild', 'pkgload', 'rcmdcheck', 'remotes', 'rlang', 'roxygen2', 'rstudioapi', 'rversions', 'sessioninfo', 'testthat', 'withr'\n",
      "\n"
     ]
    },
    {
     "name": "stdout",
     "output_type": "stream",
     "text": [
      "\n",
      "  There are binary versions available but the source versions are later:\n",
      "            binary source needs_compilation\n",
      "credentials  1.3.0  1.3.2             FALSE\n",
      "openssl      1.4.4  2.0.0              TRUE\n",
      "zip          2.1.1  2.2.0              TRUE\n",
      "diffobj      0.3.4  0.3.5              TRUE\n",
      "gert         1.3.0  1.5.0              TRUE\n",
      "glue         1.4.2  1.6.2              TRUE\n",
      "cachem       1.0.4  1.0.6              TRUE\n",
      "brew         1.0-6  1.0-7             FALSE\n",
      "commonmark     1.7  1.8.0              TRUE\n",
      "brio         1.1.2  1.1.3              TRUE\n",
      "waldo        0.2.5  0.4.0             FALSE\n",
      "usethis      2.0.1  2.1.5             FALSE\n",
      "cli          2.5.0  3.2.0              TRUE\n",
      "desc         1.3.0  1.4.1             FALSE\n",
      "fs           1.5.0  1.5.2              TRUE\n",
      "lifecycle    1.0.0  1.0.1             FALSE\n",
      "memoise      2.0.0  2.0.1             FALSE\n",
      "pkgbuild     1.2.0  1.3.1             FALSE\n",
      "pkgload      1.2.1  1.2.4             FALSE\n",
      "rcmdcheck    1.3.3  1.4.0             FALSE\n",
      "remotes      2.3.0  2.4.2             FALSE\n",
      "rlang       0.4.11  1.0.2              TRUE\n",
      "roxygen2     7.1.1  7.1.2              TRUE\n",
      "rversions    2.0.2  2.1.1             FALSE\n",
      "sessioninfo  1.1.1  1.2.2             FALSE\n",
      "testthat     3.0.2  3.1.2              TRUE\n",
      "withr        2.4.2  2.5.0             FALSE\n",
      "devtools     2.4.1  2.4.3             FALSE\n",
      "\n",
      "  Binaries will be installed\n",
      "package 'openssl' successfully unpacked and MD5 sums checked\n",
      "package 'zip' successfully unpacked and MD5 sums checked\n",
      "package 'gitcreds' successfully unpacked and MD5 sums checked\n",
      "package 'ini' successfully unpacked and MD5 sums checked\n",
      "package 'fastmap' successfully unpacked and MD5 sums checked\n",
      "package 'diffobj' successfully unpacked and MD5 sums checked\n",
      "package 'rematch2' successfully unpacked and MD5 sums checked\n",
      "package 'gert' successfully unpacked and MD5 sums checked\n",
      "package 'gh' successfully unpacked and MD5 sums checked\n",
      "package 'rappdirs' successfully unpacked and MD5 sums checked\n",
      "package 'rprojroot' successfully unpacked and MD5 sums checked\n",
      "package 'processx' successfully unpacked and MD5 sums checked\n",
      "package 'glue' successfully unpacked and MD5 sums checked\n",
      "package 'cachem' successfully unpacked and MD5 sums checked\n",
      "package 'xopen' successfully unpacked and MD5 sums checked\n",
      "package 'commonmark' successfully unpacked and MD5 sums checked\n",
      "package 'purrr' successfully unpacked and MD5 sums checked\n",
      "package 'brio' successfully unpacked and MD5 sums checked\n",
      "package 'praise' successfully unpacked and MD5 sums checked\n",
      "package 'ps' successfully unpacked and MD5 sums checked\n",
      "package 'callr' successfully unpacked and MD5 sums checked\n",
      "package 'cli' successfully unpacked and MD5 sums checked\n",
      "package 'fs' successfully unpacked and MD5 sums checked\n",
      "package 'httr' successfully unpacked and MD5 sums checked\n",
      "package 'rlang' successfully unpacked and MD5 sums checked\n"
     ]
    },
    {
     "name": "stderr",
     "output_type": "stream",
     "text": [
      "Warning message:\n",
      "\"cannot remove prior installation of package 'rlang'\"Warning message in file.copy(savedcopy, lib, recursive = TRUE):\n",
      "\"problem copying C:\\tools\\Anaconda3\\envs\\r-environment\\Lib\\R\\library\\00LOCK\\rlang\\libs\\x64\\rlang.dll to C:\\tools\\Anaconda3\\envs\\r-environment\\Lib\\R\\library\\rlang\\libs\\x64\\rlang.dll: Permission denied\"Warning message:\n",
      "\"restored 'rlang'\""
     ]
    },
    {
     "name": "stdout",
     "output_type": "stream",
     "text": [
      "package 'roxygen2' successfully unpacked and MD5 sums checked\n",
      "package 'rstudioapi' successfully unpacked and MD5 sums checked\n",
      "package 'testthat' successfully unpacked and MD5 sums checked\n",
      "\n",
      "The downloaded binary packages are in\n",
      "\tC:\\Users\\mmarcosiglesias\\AppData\\Local\\Temp\\RtmpIdGniZ\\downloaded_packages\n"
     ]
    },
    {
     "name": "stderr",
     "output_type": "stream",
     "text": [
      "installing the source packages 'credentials', 'brew', 'waldo', 'usethis', 'desc', 'lifecycle', 'memoise', 'pkgbuild', 'pkgload', 'rcmdcheck', 'remotes', 'rversions', 'sessioninfo', 'withr', 'devtools'\n",
      "\n",
      "Warning message in install.packages(\"devtools\"):\n",
      "\"installation of package 'waldo' had non-zero exit status\"Warning message in install.packages(\"devtools\"):\n",
      "\"installation of package 'lifecycle' had non-zero exit status\"Warning message in install.packages(\"devtools\"):\n",
      "\"installation of package 'sessioninfo' had non-zero exit status\"Warning message in install.packages(\"devtools\"):\n",
      "\"installation of package 'usethis' had non-zero exit status\"Warning message in install.packages(\"devtools\"):\n",
      "\"installation of package 'pkgload' had non-zero exit status\"Warning message in install.packages(\"devtools\"):\n",
      "\"installation of package 'rcmdcheck' had non-zero exit status\"Warning message in install.packages(\"devtools\"):\n",
      "\"installation of package 'devtools' had non-zero exit status\""
     ]
    },
    {
     "ename": "ERROR",
     "evalue": "Error in loadNamespace(name): there is no package called 'devtools'\n",
     "output_type": "error",
     "traceback": [
      "Error in loadNamespace(name): there is no package called 'devtools'\nTraceback:\n",
      "1. devtools::install_github",
      "2. getExportedValue(pkg, name)",
      "3. asNamespace(ns)",
      "4. getNamespace(ns)",
      "5. loadNamespace(name)",
      "6. withRestarts(stop(cond), retry_loadNamespace = function() NULL)",
      "7. withOneRestart(expr, restarts[[1L]])",
      "8. doWithOneRestart(return(expr), restart)"
     ]
    }
   ],
   "source": [
    "install.packages(\"devtools\")\n",
    "devtools::install_github(\"r-lib/pillar\")"
   ]
  },
  {
   "cell_type": "code",
   "execution_count": 6,
   "id": "c844b17f",
   "metadata": {},
   "outputs": [],
   "source": [
    "dat = read.csv(\"C:/Users/mmarcosiglesias/OneDrive - IESEG/Desktop/jhgsd7/SML_Section7/data/bankruptcy_prediction/data.csv\")"
   ]
  },
  {
   "cell_type": "markdown",
   "id": "e47b141b",
   "metadata": {},
   "source": [
    "### QUESTION 1"
   ]
  },
  {
   "cell_type": "code",
   "execution_count": 8,
   "id": "19d03f4c",
   "metadata": {},
   "outputs": [],
   "source": [
    "# Split the data\n",
    "set.seed(123)\n",
    "sample <- sample(nrow(dat)*0.8)\n",
    "train <- dat[sample, ] \n",
    "test <- dat[-sample, ] "
   ]
  },
  {
   "cell_type": "markdown",
   "id": "80df87e5",
   "metadata": {},
   "source": [
    "### QUESTION 2"
   ]
  },
  {
   "cell_type": "code",
   "execution_count": 9,
   "id": "a2802e40",
   "metadata": {},
   "outputs": [
    {
     "name": "stderr",
     "output_type": "stream",
     "text": [
      "hidden: 30    thresh: 0.01    rep: 1/1    steps:    1000\tmin thresh: 51.7432607780639\n",
      "                                                    2000\tmin thresh: 51.7432607780639\n",
      "                                                    3000\tmin thresh: 44.9921494984575\n",
      "                                                    4000\tmin thresh: 44.9921494984575\n",
      "                                                    5000\tmin thresh: 44.9921494984575\n",
      "                                                    6000\tmin thresh: 42.9644622878729\n",
      "                                                    7000\tmin thresh: 42.9644622878729\n",
      "                                                    8000\tmin thresh: 42.9644622878729\n",
      "                                                    9000\tmin thresh: 42.9644622878729\n",
      "                                                   10000\tmin thresh: 42.9644622878729\n",
      "                                                   11000\tmin thresh: 42.9644622878729\n",
      "                                                   12000\tmin thresh: 42.9644622878729\n",
      "                                                   13000\tmin thresh: 42.9644622878729\n",
      "                                                   14000\tmin thresh: 42.9644622878729\n",
      "                                                   15000\tmin thresh: 42.9644622878729\n",
      "                                                   16000\tmin thresh: 42.9644622878729\n",
      "                                                   17000\tmin thresh: 42.9644622878729\n",
      "                                                   18000\tmin thresh: 42.9644622878729\n",
      "                                                   19000\tmin thresh: 42.9644622878729\n",
      "                                                   20000\tmin thresh: 42.9644622878729\n",
      "                                                   21000\tmin thresh: 42.9644622878729\n",
      "                                                   22000\tmin thresh: 42.9644622878729\n",
      "                                                   23000\tmin thresh: 42.9644622878729\n",
      "                                                   24000\tmin thresh: 42.9644622878729\n",
      "                                                   25000\tmin thresh: 42.9644622878729\n",
      "                                                   26000\tmin thresh: 42.9644622878729\n",
      "                                                   27000\tmin thresh: 42.9644622878729\n",
      "                                                   28000\tmin thresh: 42.9644622878729\n",
      "                                                   29000\tmin thresh: 42.9644622878729\n",
      "                                                   30000\tmin thresh: 42.9644622878729\n",
      "                                                   31000\tmin thresh: 42.9644622878729\n",
      "                                                   32000\tmin thresh: 42.9644622878729\n",
      "                                                   33000\tmin thresh: 42.9644622878729\n",
      "                                                   34000\tmin thresh: 42.9644622878729\n",
      "                                                   35000\tmin thresh: 42.9644622878729\n",
      "                                                   36000\tmin thresh: 42.9644622878729\n",
      "                                                   37000\tmin thresh: 42.9644622878729\n",
      "                                                   38000\tmin thresh: 42.9644622878729\n",
      "                                                   39000\tmin thresh: 42.9644622878729\n",
      "                                                   40000\tmin thresh: 32.2873702319644\n",
      "                                                   41000\tmin thresh: 32.2873702319644\n",
      "                                                   42000\tmin thresh: 32.2873702319644\n",
      "                                                   43000\tmin thresh: 32.2873702319644\n",
      "                                                   44000\tmin thresh: 32.2873702319644\n",
      "                                                   45000\tmin thresh: 32.2873702319644\n",
      "                                                   46000\tmin thresh: 32.2873702319644\n",
      "                                                   47000\tmin thresh: 32.2873702319644\n",
      "                                                   48000\tmin thresh: 32.2873702319644\n",
      "                                                   49000\tmin thresh: 32.2873702319644\n",
      "                                                   50000\tmin thresh: 32.2873702319644\n",
      "                                                   51000\tmin thresh: 32.2873702319644\n",
      "                                                   52000\tmin thresh: 32.2873702319644\n",
      "                                                   53000\tmin thresh: 32.2873702319644\n",
      "                                                   54000\tmin thresh: 32.2873702319644\n",
      "                                                   55000\tmin thresh: 32.2873702319644\n",
      "                                                   56000\tmin thresh: 32.2873702319644\n",
      "                                                   57000\tmin thresh: 32.2873702319644\n",
      "                                                   58000\tmin thresh: 32.2873702319644\n",
      "                                                   59000\tmin thresh: 32.2873702319644\n",
      "                                                   60000\tmin thresh: 32.2873702319644\n",
      "                                                   61000\tmin thresh: 32.2873702319644\n",
      "                                                   62000\tmin thresh: 32.2873702319644\n",
      "                                                   63000\tmin thresh: 32.2873702319644\n",
      "                                                   64000\tmin thresh: 32.2873702319644\n",
      "                                                   65000\tmin thresh: 32.2873702319644\n",
      "                                                   66000\tmin thresh: 32.2873702319644\n",
      "                                                   67000\tmin thresh: 32.2873702319644\n",
      "                                                   68000\tmin thresh: 32.2873702319644\n",
      "                                                   69000\tmin thresh: 32.2873702319644\n",
      "                                                   70000\tmin thresh: 32.2873702319644\n",
      "                                                   71000\tmin thresh: 32.2873702319644\n",
      "                                                   72000\tmin thresh: 32.2873702319644\n",
      "                                                   73000\tmin thresh: 32.2873702319644\n",
      "                                                   74000\tmin thresh: 32.2873702319644\n",
      "                                                   75000\tmin thresh: 32.2873702319644\n",
      "                                                   76000\tmin thresh: 32.2873702319644\n",
      "                                                   77000\tmin thresh: 32.2873702319644\n",
      "                                                   78000\tmin thresh: 32.2873702319644\n",
      "                                                   79000\tmin thresh: 32.2873702319644\n",
      "                                                   80000\tmin thresh: 32.2873702319644\n",
      "                                                   81000\tmin thresh: 32.2873702319644\n",
      "                                                   82000\tmin thresh: 32.2873702319644\n",
      "                                                   83000\tmin thresh: 32.2873702319644\n",
      "                                                   84000\tmin thresh: 32.2873702319644\n",
      "                                                   85000\tmin thresh: 32.2873702319644\n",
      "                                                   86000\tmin thresh: 32.2873702319644\n",
      "                                                   87000\tmin thresh: 32.2873702319644\n",
      "                                                   88000\tmin thresh: 32.2873702319644\n",
      "                                                   89000\tmin thresh: 32.2873702319644\n",
      "                                                   90000\tmin thresh: 32.2873702319644\n",
      "                                                   91000\tmin thresh: 32.2873702319644\n",
      "                                                   92000\tmin thresh: 32.2873702319644\n",
      "                                                   93000\tmin thresh: 32.2873702319644\n",
      "                                                   94000\tmin thresh: 32.2873702319644\n",
      "                                                   95000\tmin thresh: 32.2873702319644\n"
     ]
    },
    {
     "name": "stderr",
     "output_type": "stream",
     "text": [
      "                                                   96000\tmin thresh: 32.2873702319644\n",
      "                                                   97000\tmin thresh: 32.2873702319644\n",
      "                                                   98000\tmin thresh: 32.2873702319644\n",
      "                                                   99000\tmin thresh: 32.2873702319644\n",
      "                                                 stepmax\tmin thresh: 32.2873702319644\n",
      "Warning message:\n",
      "\"Algorithm did not converge in 1 of 1 repetition(s) within the stepmax.\""
     ]
    }
   ],
   "source": [
    "# Train neural network model\n",
    "neural <- neuralnet(Bankrupt.~.,           # The formula\n",
    "                   train,            # Training data\n",
    "                   hidden=c(30),          # Size of the hidden layers\n",
    "                   #stepmax=10000,       # Maximum training step before stopping\n",
    "                   rep=1,                 # Number of training repeat\n",
    "                   lifesign='full',       # Print during train\n",
    "                   algorithm='backprop',  # Algorithm to calculate the network (backpropagation)\n",
    "                   learningrate=0.01,     # Learning rate\n",
    "                   err.fct='ce',          # Error function, cross-entropy\n",
    "                   act.fct=\"logistic\",    # Function use to calculate the result (activation function)\n",
    "                   linear.output=F        # FALSE = apply activation function to output layer\n",
    "                  )"
   ]
  },
  {
   "cell_type": "code",
   "execution_count": 29,
   "id": "185c9b21",
   "metadata": {},
   "outputs": [
    {
     "ename": "ERROR",
     "evalue": "Error in cbind(1, pred) %*% weights[[num_hidden_layers + 1]]: requires numeric/complex matrix/vector arguments\n",
     "output_type": "error",
     "traceback": [
      "Error in cbind(1, pred) %*% weights[[num_hidden_layers + 1]]: requires numeric/complex matrix/vector arguments\nTraceback:\n",
      "1. predict(neural, train[, c(2:96)])",
      "2. predict.nn(neural, train[, c(2:96)])"
     ]
    }
   ],
   "source": [
    "# Make prediction and evaluation on train\n",
    "train_pred <- predict(neural, train[, c(2:96)])\n",
    "mean((max.col(train_pred)-1) == train$Bankrupt.)"
   ]
  },
  {
   "cell_type": "code",
   "execution_count": 30,
   "id": "6f82b7f6",
   "metadata": {},
   "outputs": [
    {
     "ename": "ERROR",
     "evalue": "Error in cbind(1, pred) %*% weights[[num_hidden_layers + 1]]: requires numeric/complex matrix/vector arguments\n",
     "output_type": "error",
     "traceback": [
      "Error in cbind(1, pred) %*% weights[[num_hidden_layers + 1]]: requires numeric/complex matrix/vector arguments\nTraceback:\n",
      "1. predict(neural, test[, c(2:96)])",
      "2. predict.nn(neural, test[, c(2:96)])"
     ]
    }
   ],
   "source": [
    "# Make prediction and evaluation on test\n",
    "test_pred <- predict(neural, test[, c(2:96)])\n",
    "mean((max.col(test_pred)-1) == test$Bankrupt.)"
   ]
  },
  {
   "cell_type": "markdown",
   "id": "a40ed856",
   "metadata": {},
   "source": [
    "### QUESTION 3"
   ]
  },
  {
   "cell_type": "code",
   "execution_count": 14,
   "id": "64041b95",
   "metadata": {},
   "outputs": [
    {
     "name": "stderr",
     "output_type": "stream",
     "text": [
      "hidden: 20, 20    thresh: 0.01    rep: 1/1    steps: \n",
      "   1000\tmin thresh: 8.54975163689605\n",
      "                                                     \n",
      "   2000\tmin thresh: 3.72870502694086\n",
      "                                                     \n",
      "   3000\tmin thresh: 3.72870502694086\n",
      "                                                     \n",
      "   4000\tmin thresh: 3.72870502694086\n",
      "                                                     \n",
      "   5000\tmin thresh: 3.72870502694086\n",
      "                                                     \n",
      "   6000\tmin thresh: 3.72870502694086\n",
      "                                                     \n",
      "   7000\tmin thresh: 3.1327940720354\n",
      "                                                     \n",
      "   8000\tmin thresh: 2.86706314723748\n",
      "                                                     \n",
      "   9000\tmin thresh: 1.466580194773\n",
      "                                                     \n",
      "  10000\tmin thresh: 1.466580194773\n",
      "                                                     \n",
      "  11000\tmin thresh: 1.466580194773\n",
      "                                                     \n",
      "  12000\tmin thresh: 1.466580194773\n",
      "                                                     \n",
      "  13000\tmin thresh: 1.466580194773\n",
      "                                                     \n",
      "  14000\tmin thresh: 1.466580194773\n",
      "                                                     \n",
      "  15000\tmin thresh: 1.466580194773\n",
      "                                                     \n",
      "  16000\tmin thresh: 1.466580194773\n",
      "                                                     \n",
      "  17000\tmin thresh: 1.466580194773\n",
      "                                                     \n",
      "  18000\tmin thresh: 1.466580194773\n",
      "                                                     \n",
      "  19000\tmin thresh: 1.466580194773\n",
      "                                                     \n",
      "  20000\tmin thresh: 1.466580194773\n",
      "                                                     \n",
      "  21000\tmin thresh: 1.466580194773\n",
      "                                                     \n",
      "  22000\tmin thresh: 1.466580194773\n",
      "                                                     \n",
      "  23000\tmin thresh: 1.466580194773\n",
      "                                                     \n",
      "  24000\tmin thresh: 1.466580194773\n",
      "                                                     \n",
      "  25000\tmin thresh: 1.466580194773\n",
      "                                                     \n",
      "  26000\tmin thresh: 1.39333365481125\n",
      "                                                     \n",
      "  27000\tmin thresh: 1.39333365481125\n",
      "                                                     \n",
      "  28000\tmin thresh: 1.39333365481125\n",
      "                                                     \n",
      "  29000\tmin thresh: 1.39333365481125\n",
      "                                                     \n",
      "  30000\tmin thresh: 1.39333365481125\n",
      "                                                     \n",
      "  31000\tmin thresh: 1.39333365481125\n",
      "                                                     \n",
      "  32000\tmin thresh: 1.39333365481125\n",
      "                                                     \n",
      "  33000\tmin thresh: 1.39333365481125\n",
      "                                                     \n",
      "  34000\tmin thresh: 1.39333365481125\n",
      "                                                     \n",
      "  35000\tmin thresh: 1.39333365481125\n",
      "                                                     \n",
      "  36000\tmin thresh: 1.39333365481125\n",
      "                                                     \n",
      "  37000\tmin thresh: 1.39333365481125\n",
      "                                                     \n",
      "  38000\tmin thresh: 1.39333365481125\n",
      "                                                     \n",
      "  39000\tmin thresh: 1.39333365481125\n",
      "                                                     \n",
      "  40000\tmin thresh: 1.39333365481125\n",
      "                                                     \n",
      "  41000\tmin thresh: 1.39333365481125\n",
      "                                                     \n",
      "  42000\tmin thresh: 1.39333365481125\n",
      "                                                     \n",
      "  43000\tmin thresh: 1.39333365481125\n",
      "                                                     \n",
      "  44000\tmin thresh: 1.39333365481125\n",
      "                                                     \n",
      "  45000\tmin thresh: 1.39333365481125\n",
      "                                                     \n",
      "  46000\tmin thresh: 1.39333365481125\n",
      "                                                     \n",
      "  47000\tmin thresh: 1.39333365481125\n",
      "                                                     \n",
      "  48000\tmin thresh: 1.34516521282563\n",
      "                                                     \n",
      "  49000\tmin thresh: 1.34516521282563\n",
      "                                                     \n",
      "  50000\tmin thresh: 1.34516521282563\n",
      "                                                     \n",
      "  51000\tmin thresh: 1.34516521282563\n",
      "                                                     \n",
      "  52000\tmin thresh: 1.34516521282563\n",
      "                                                     \n",
      "  53000\tmin thresh: 1.34516521282563\n",
      "                                                     \n",
      "  54000\tmin thresh: 1.34516521282563\n",
      "                                                     \n",
      "  55000\tmin thresh: 1.34516521282563\n",
      "                                                     \n",
      "  56000\tmin thresh: 1.34516521282563\n",
      "                                                     \n",
      "  57000\tmin thresh: 1.34516521282563\n",
      "                                                     \n",
      "  58000\tmin thresh: 1.34516521282563\n",
      "                                                     \n",
      "  59000\tmin thresh: 1.34516521282563\n",
      "                                                     \n",
      "  60000\tmin thresh: 1.34516521282563\n",
      "                                                     \n",
      "  61000\tmin thresh: 1.34516521282563\n",
      "                                                     \n",
      "  62000\tmin thresh: 1.34516521282563\n",
      "                                                     \n",
      "  63000\tmin thresh: 1.34516521282563\n",
      "                                                     \n",
      "  64000\tmin thresh: 1.34516521282563\n",
      "                                                     \n",
      "  65000\tmin thresh: 1.34516521282563\n",
      "                                                     \n",
      "  66000\tmin thresh: 1.34516521282563\n",
      "                                                     \n",
      "  67000\tmin thresh: 1.30993558758732\n",
      "                                                     \n",
      "  68000\tmin thresh: 1.30993558758732\n",
      "                                                     \n",
      "  69000\tmin thresh: 1.30993558758732\n",
      "                                                     \n",
      "  70000\tmin thresh: 0.951210452660429\n",
      "                                                     \n",
      "  71000\tmin thresh: 0.951210452660429\n",
      "                                                     \n",
      "  72000\tmin thresh: 0.951210452660429\n",
      "                                                     \n",
      "  73000\tmin thresh: 0.951210452660429\n",
      "                                                     \n",
      "  74000\tmin thresh: 0.951210452660429\n",
      "                                                     \n",
      "  75000\tmin thresh: 0.951210452660429\n",
      "                                                     \n",
      "  76000\tmin thresh: 0.951210452660429\n",
      "                                                     \n",
      "  77000\tmin thresh: 0.951210452660429\n",
      "                                                     \n",
      "  78000\tmin thresh: 0.951210452660429\n",
      "                                                     \n",
      "  79000\tmin thresh: 0.951210452660429\n",
      "                                                     \n",
      "  80000\tmin thresh: 0.951210452660429\n",
      "                                                     \n",
      "  81000\tmin thresh: 0.951210452660429\n",
      "                                                     \n",
      "  82000\tmin thresh: 0.951210452660429\n",
      "                                                     \n",
      "  83000\tmin thresh: 0.951210452660429\n",
      "                                                     \n",
      "  84000\tmin thresh: 0.951210452660429\n",
      "                                                     \n",
      "  85000\tmin thresh: 0.951210452660429\n",
      "                                                     \n",
      "  86000\tmin thresh: 0.951210452660429\n",
      "                                                     \n",
      "  87000\tmin thresh: 0.951210452660429\n",
      "                                                     \n",
      "  88000\tmin thresh: 0.951210452660429\n",
      "                                                     \n",
      "  89000\tmin thresh: 0.951210452660429\n",
      "                                                     \n",
      "  90000\tmin thresh: 0.951210452660429\n",
      "                                                     \n"
     ]
    },
    {
     "name": "stderr",
     "output_type": "stream",
     "text": [
      "  91000\tmin thresh: 0.951210452660429\n",
      "                                                     \n",
      "  92000\tmin thresh: 0.951210452660429\n",
      "                                                     \n",
      "  93000\tmin thresh: 0.951210452660429\n",
      "                                                     \n",
      "  94000\tmin thresh: 0.951210452660429\n",
      "                                                     \n",
      "  95000\tmin thresh: 0.951210452660429\n",
      "                                                     \n",
      "  96000\tmin thresh: 0.951210452660429\n",
      "                                                     \n",
      "  97000\tmin thresh: 0.951210452660429\n",
      "                                                     \n",
      "  98000\tmin thresh: 0.951210452660429\n",
      "                                                     \n",
      "  99000\tmin thresh: 0.951210452660429\n",
      "                                                     \n",
      "stepmax\tmin thresh: 0.951210452660429\n",
      "\n",
      "Warning message:\n",
      "\"Algorithm did not converge in 1 of 1 repetition(s) within the stepmax.\"\n"
     ]
    }
   ],
   "source": [
    "# Train neural network model\n",
    "neural <- neuralnet(Bankrupt.~.,           # The formula\n",
    "                   train,            # Training data\n",
    "                   hidden=c(20, 20),      # Size of the hidden layers\n",
    "                   #stepmax=10000,         # Maximum training step before stopping\n",
    "                   rep=1,                 # Number of training repeat\n",
    "                   lifesign='full',       # Print during train\n",
    "                   algorithm='backprop',  # Algorithm to calculate the network (backpropagation)\n",
    "                   learningrate=0.01,     # Learning rate\n",
    "                   err.fct='ce',          # Error function, cross-entropy\n",
    "                   act.fct=\"logistic\",    # Function use to calculate the result (activation function)\n",
    "                   linear.output=F        # FALSE = apply activation function to output layer\n",
    "                  )"
   ]
  },
  {
   "cell_type": "code",
   "execution_count": 14,
   "id": "91c25748",
   "metadata": {},
   "outputs": [
    {
     "ename": "ERROR",
     "evalue": "Error in cbind(1, pred) %*% weights[[num_hidden_layers + 1]]: requires numeric/complex matrix/vector arguments\n",
     "output_type": "error",
     "traceback": [
      "Error in cbind(1, pred) %*% weights[[num_hidden_layers + 1]]: requires numeric/complex matrix/vector arguments\nTraceback:\n",
      "1. predict(neural, train[, c(2:96)])",
      "2. predict.nn(neural, train[, c(2:96)])"
     ]
    }
   ],
   "source": [
    "# Make prediction and evaluation on train\n",
    "train_pred <- predict(neural, train[, c(2:96)])\n",
    "mean((max.col(train_pred)-1) == train$Bankrupt.)"
   ]
  },
  {
   "cell_type": "code",
   "execution_count": 15,
   "id": "3f88b1b1",
   "metadata": {},
   "outputs": [
    {
     "ename": "ERROR",
     "evalue": "Error in cbind(1, pred) %*% weights[[num_hidden_layers + 1]]: requires numeric/complex matrix/vector arguments\n",
     "output_type": "error",
     "traceback": [
      "Error in cbind(1, pred) %*% weights[[num_hidden_layers + 1]]: requires numeric/complex matrix/vector arguments\nTraceback:\n",
      "1. predict(neural, test[, c(2:96)])",
      "2. predict.nn(neural, test[, c(2:96)])"
     ]
    }
   ],
   "source": [
    "# Make prediction and evaluation on test\n",
    "test_pred <- predict(neural, test[, c(2:96)])\n",
    "mean((max.col(test_pred)-1) == test$Bankrupt.)"
   ]
  },
  {
   "cell_type": "markdown",
   "id": "8c0d6e80",
   "metadata": {},
   "source": [
    "### QUESTION 4"
   ]
  },
  {
   "cell_type": "code",
   "execution_count": null,
   "id": "bf411f5f",
   "metadata": {},
   "outputs": [],
   "source": [
    "# Define ML classification task\n",
    "tr_task <- mlr::makeClassifTask(id ='MNIST_train', data=train, target='Bankrupt.')\n",
    "te_task <- mlr::makeClassifTask(id='MNIST_test', data=test, target='Bankrupt.')"
   ]
  },
  {
   "cell_type": "code",
   "execution_count": 32,
   "id": "94266fb7",
   "metadata": {},
   "outputs": [
    {
     "ename": "ERROR",
     "evalue": "Error in makeLearner(\"classif.knn\", k = 50): could not find function \"makeLearner\"\n",
     "output_type": "error",
     "traceback": [
      "Error in makeLearner(\"classif.knn\", k = 50): could not find function \"makeLearner\"\nTraceback:\n"
     ]
    }
   ],
   "source": [
    "# k-Nearest Neighbor (k=40)\n",
    "l <- makeLearner('classif.knn', k=40)\n",
    "model <- mlr::train(learner, tr_task)\n",
    "pred_te <- predict(model, task=te_task)\n",
    "performance(pred_te, measures=acc)"
   ]
  },
  {
   "cell_type": "code",
   "execution_count": null,
   "id": "179f8a61",
   "metadata": {},
   "outputs": [],
   "source": []
  }
 ],
 "metadata": {
  "kernelspec": {
   "display_name": "R",
   "language": "R",
   "name": "ir"
  },
  "language_info": {
   "codemirror_mode": "r",
   "file_extension": ".r",
   "mimetype": "text/x-r-source",
   "name": "R",
   "pygments_lexer": "r",
   "version": "3.6.1"
  }
 },
 "nbformat": 4,
 "nbformat_minor": 5
}
